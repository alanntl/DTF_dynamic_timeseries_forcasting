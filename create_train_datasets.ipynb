{
 "cells": [
  {
   "cell_type": "markdown",
   "metadata": {},
   "source": [
    "# Library"
   ]
  },
  {
   "cell_type": "code",
   "execution_count": 5,
   "metadata": {},
   "outputs": [],
   "source": [
    "import pandas as pd\n",
    "import pandas as pd\n",
    "pd.options.plotting.backend = \"plotly\"\n",
    "import util"
   ]
  },
  {
   "cell_type": "markdown",
   "metadata": {},
   "source": [
    "# Data Preprpocessing/ select sensor"
   ]
  },
  {
   "cell_type": "code",
   "execution_count": 6,
   "metadata": {},
   "outputs": [
    {
     "data": {
      "text/plain": [
       "[                           temperature          co2    iaq          deviceId\n",
       " time                                                                        \n",
       " 2022-11-07 23:15:18+11:00    24.787203  1063.735229  179.0  E7184ABA7A055FD1\n",
       " 2022-11-07 23:16:18+11:00    24.782167  1056.472656  177.0  E7184ABA7A055FD1\n",
       " 2022-11-07 23:17:18+11:00    24.789717  1065.587769  179.0  E7184ABA7A055FD1\n",
       " 2022-11-07 23:18:18+11:00    24.784685  1064.388428  179.0  E7184ABA7A055FD1\n",
       " 2022-11-07 23:19:18+11:00    24.792234  1063.462036  178.0  E7184ABA7A055FD1\n",
       " ...                                ...          ...    ...               ...\n",
       " 2022-11-11 13:56:08+11:00    24.724291   646.477234   76.0  E7184ABA7A055FD1\n",
       " 2022-11-11 13:57:08+11:00    24.704157   645.051270   75.0  E7184ABA7A055FD1\n",
       " 2022-11-11 13:58:08+11:00    24.699125   653.881470   80.0  E7184ABA7A055FD1\n",
       " 2022-11-11 13:59:08+11:00    24.716740   669.776306   88.0  E7184ABA7A055FD1\n",
       " 2022-11-11 14:00:09+11:00    24.731838   705.225464   96.0  E7184ABA7A055FD1\n",
       " \n",
       " [4803 rows x 4 columns],\n",
       "                            temperature          co2    iaq          deviceId\n",
       " time                                                                        \n",
       " 2022-11-07 23:15:25+11:00    23.957020  1065.705811  179.0  7BB92D02D696C5C5\n",
       " 2022-11-07 23:16:25+11:00    23.967152  1070.455200  180.0  7BB92D02D696C5C5\n",
       " 2022-11-07 23:17:25+11:00    23.964611  1061.436157  178.0  7BB92D02D696C5C5\n",
       " 2022-11-07 23:18:25+11:00    23.967152  1063.462036  178.0  7BB92D02D696C5C5\n",
       " 2022-11-07 23:19:25+11:00    23.967152  1065.395752  179.0  7BB92D02D696C5C5\n",
       " ...                                ...          ...    ...               ...\n",
       " 2022-11-11 13:55:16+11:00    23.984940   794.944214  117.0  7BB92D02D696C5C5\n",
       " 2022-11-11 13:56:16+11:00    24.002726   788.615356  116.0  7BB92D02D696C5C5\n",
       " 2022-11-11 13:57:16+11:00    23.984940   794.077026  117.0  7BB92D02D696C5C5\n",
       " 2022-11-11 13:58:16+11:00    23.982397   793.914673  117.0  7BB92D02D696C5C5\n",
       " 2022-11-11 13:59:16+11:00    23.982397   801.501953  119.0  7BB92D02D696C5C5\n",
       " \n",
       " [5077 rows x 4 columns],\n",
       "                            temperature         co2   iaq          deviceId\n",
       " time                                                                      \n",
       " 2022-11-07 23:15:55+11:00    24.142492  651.757324  79.0  99DD33EFB7990A71\n",
       " 2022-11-07 23:16:55+11:00    24.150066  652.734497  80.0  99DD33EFB7990A71\n",
       " 2022-11-07 23:17:55+11:00    24.147541  651.710083  79.0  99DD33EFB7990A71\n",
       " 2022-11-07 23:18:55+11:00    24.147541  650.725464  79.0  99DD33EFB7990A71\n",
       " 2022-11-07 23:19:55+11:00    24.152590  655.735474  81.0  99DD33EFB7990A71\n",
       " ...                                ...         ...   ...               ...\n",
       " 2022-11-11 13:55:39+11:00    24.195503  621.102661  62.0  99DD33EFB7990A71\n",
       " 2022-11-11 13:56:39+11:00    24.187929  622.571411  62.0  99DD33EFB7990A71\n",
       " 2022-11-11 13:57:39+11:00    24.172785  622.431152  62.0  99DD33EFB7990A71\n",
       " 2022-11-11 13:58:39+11:00    24.155115  618.354126  60.0  99DD33EFB7990A71\n",
       " 2022-11-11 13:59:39+11:00    24.150066  617.686890  60.0  99DD33EFB7990A71\n",
       " \n",
       " [5020 rows x 4 columns],\n",
       "                            temperature          co2    iaq          deviceId\n",
       " time                                                                        \n",
       " 2022-11-07 23:15:57+11:00    23.676592  1170.204346  198.0  1DA36D3BE34D559A\n",
       " 2022-11-07 23:16:57+11:00    23.676592  1163.214844  196.0  1DA36D3BE34D559A\n",
       " 2022-11-07 23:17:57+11:00    23.679132  1170.322388  198.0  1DA36D3BE34D559A\n",
       " 2022-11-07 23:18:57+11:00    23.676624  1168.329590  197.0  1DA36D3BE34D559A\n",
       " 2022-11-07 23:19:57+11:00    23.679132  1167.252075  197.0  1DA36D3BE34D559A\n",
       " ...                                ...          ...    ...               ...\n",
       " 2022-11-11 13:55:47+11:00    24.316891   707.897217   97.0  1DA36D3BE34D559A\n",
       " 2022-11-11 13:56:47+11:00    24.349924   707.793884   97.0  1DA36D3BE34D559A\n",
       " 2022-11-11 13:57:47+11:00    24.370249   708.804993   97.0  1DA36D3BE34D559A\n",
       " 2022-11-11 13:58:47+11:00    24.388035   705.166382   96.0  1DA36D3BE34D559A\n",
       " 2022-11-11 13:59:47+11:00    24.403280   713.524902   98.0  1DA36D3BE34D559A\n",
       " \n",
       " [5063 rows x 4 columns],\n",
       "                            temperature          co2    iaq          deviceId\n",
       " time                                                                        \n",
       " 2022-11-07 23:16:07+11:00    24.771078  1066.842407  179.0  B84C4503F361D64A\n",
       " 2022-11-07 23:17:07+11:00    24.778713  1067.141357  179.0  B84C4503F361D64A\n",
       " 2022-11-07 23:18:08+11:00    24.765987  1083.142578  183.0  B84C4503F361D64A\n",
       " 2022-11-07 23:19:07+11:00    24.760897  1069.525269  180.0  B84C4503F361D64A\n",
       " 2022-11-07 23:20:08+11:00    24.763445  1067.916260  180.0  B84C4503F361D64A\n",
       " ...                                ...          ...    ...               ...\n",
       " 2022-11-11 13:56:00+11:00    24.183187   729.961548  102.0  B84C4503F361D64A\n",
       " 2022-11-11 13:57:00+11:00    24.180643   732.323364  103.0  B84C4503F361D64A\n",
       " 2022-11-11 13:58:00+11:00    24.228998   734.157410  103.0  B84C4503F361D64A\n",
       " 2022-11-11 13:59:00+11:00    24.244267   724.005432  101.0  B84C4503F361D64A\n",
       " 2022-11-11 14:00:01+11:00    24.175554   726.337646  101.0  B84C4503F361D64A\n",
       " \n",
       " [5046 rows x 4 columns]]"
      ]
     },
     "execution_count": 6,
     "metadata": {},
     "output_type": "execute_result"
    }
   ],
   "source": [
    "data = util.get_json_from_api(API_KEY = 'please enter your key',\n",
    "                      measures= [\"temperature\", \"co2\", \"iaq\"],\n",
    "                      time_filter= \"time between ago(200h) and now()\" )\n",
    "df_raw = util.dataframe_clean(data)\n",
    "df_raw.to_csv('./data_train/'+'df_raw.csv')\n",
    "dfs = util.df_group_by_col(df=df_raw, col='deviceId')\n",
    "dfs"
   ]
  },
  {
   "cell_type": "markdown",
   "metadata": {},
   "source": [
    "# Setup forecast targets"
   ]
  },
  {
   "cell_type": "code",
   "execution_count": 7,
   "metadata": {},
   "outputs": [
    {
     "name": "stderr",
     "output_type": "stream",
     "text": [
      "C:\\Users\\ANPCC\\AppData\\Local\\Temp\\ipykernel_29760\\2737748094.py:7: SettingWithCopyWarning: \n",
      "A value is trying to be set on a copy of a slice from a DataFrame.\n",
      "Try using .loc[row_indexer,col_indexer] = value instead\n",
      "\n",
      "See the caveats in the documentation: https://pandas.pydata.org/pandas-docs/stable/user_guide/indexing.html#returning-a-view-versus-a-copy\n",
      "  dataset['target'] = dataset[target].shift(-15)\n",
      "C:\\Users\\ANPCC\\AppData\\Local\\Temp\\ipykernel_29760\\2737748094.py:7: SettingWithCopyWarning: \n",
      "A value is trying to be set on a copy of a slice from a DataFrame.\n",
      "Try using .loc[row_indexer,col_indexer] = value instead\n",
      "\n",
      "See the caveats in the documentation: https://pandas.pydata.org/pandas-docs/stable/user_guide/indexing.html#returning-a-view-versus-a-copy\n",
      "  dataset['target'] = dataset[target].shift(-15)\n",
      "C:\\Users\\ANPCC\\AppData\\Local\\Temp\\ipykernel_29760\\2737748094.py:7: SettingWithCopyWarning: \n",
      "A value is trying to be set on a copy of a slice from a DataFrame.\n",
      "Try using .loc[row_indexer,col_indexer] = value instead\n",
      "\n",
      "See the caveats in the documentation: https://pandas.pydata.org/pandas-docs/stable/user_guide/indexing.html#returning-a-view-versus-a-copy\n",
      "  dataset['target'] = dataset[target].shift(-15)\n",
      "C:\\Users\\ANPCC\\AppData\\Local\\Temp\\ipykernel_29760\\2737748094.py:7: SettingWithCopyWarning: \n",
      "A value is trying to be set on a copy of a slice from a DataFrame.\n",
      "Try using .loc[row_indexer,col_indexer] = value instead\n",
      "\n",
      "See the caveats in the documentation: https://pandas.pydata.org/pandas-docs/stable/user_guide/indexing.html#returning-a-view-versus-a-copy\n",
      "  dataset['target'] = dataset[target].shift(-15)\n",
      "C:\\Users\\ANPCC\\AppData\\Local\\Temp\\ipykernel_29760\\2737748094.py:7: SettingWithCopyWarning: \n",
      "A value is trying to be set on a copy of a slice from a DataFrame.\n",
      "Try using .loc[row_indexer,col_indexer] = value instead\n",
      "\n",
      "See the caveats in the documentation: https://pandas.pydata.org/pandas-docs/stable/user_guide/indexing.html#returning-a-view-versus-a-copy\n",
      "  dataset['target'] = dataset[target].shift(-15)\n"
     ]
    }
   ],
   "source": [
    "list_target = ['temperature','co2','iaq']\n",
    "# co2 as target\n",
    "for df in dfs:\n",
    "    deviceid = df['deviceId'][0]\n",
    "    for target in list_target:\n",
    "        dataset = df\n",
    "        dataset['target'] = dataset[target].shift(-15)\n",
    "        dataset = dataset[:-15]\n",
    "        dataset.to_csv('./data_train/'+target+'_'+deviceid+'.csv')"
   ]
  }
 ],
 "metadata": {
  "kernelspec": {
   "display_name": "Python 3.8.13 ('automl38')",
   "language": "python",
   "name": "python3"
  },
  "language_info": {
   "codemirror_mode": {
    "name": "ipython",
    "version": 3
   },
   "file_extension": ".py",
   "mimetype": "text/x-python",
   "name": "python",
   "nbconvert_exporter": "python",
   "pygments_lexer": "ipython3",
   "version": "3.8.13"
  },
  "orig_nbformat": 4,
  "vscode": {
   "interpreter": {
    "hash": "04510d5b3c116abf5a6e39623d4f7b1ccf2d5b89ffc8caf31331539c124ac247"
   }
  }
 },
 "nbformat": 4,
 "nbformat_minor": 2
}
